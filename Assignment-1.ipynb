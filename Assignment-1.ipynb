{
 "cells": [
  {
   "cell_type": "markdown",
   "metadata": {},
   "source": [
    "# Problem statement : Python 1 "
   ]
  },
  {
   "cell_type": "markdown",
   "metadata": {},
   "source": [
    "## Problem 1:"
   ]
  },
  {
   "cell_type": "code",
   "execution_count": 2,
   "metadata": {},
   "outputs": [
    {
     "name": "stdout",
     "output_type": "stream",
     "text": [
      "Please mention the course you have opted for :Acadgild data science course\n",
      "Ok, So this your opted course : Acadgild data science course\n",
      "That's great, you have choosen this course : Acadgild data science course\n"
     ]
    }
   ],
   "source": [
    "a = input(\"Please mention the course you have opted for :\")\n",
    "print(\"Ok, So this your opted course : {}\".format(a))\n",
    "print(\"That's great, you have choosen this course :\",a)"
   ]
  },
  {
   "cell_type": "markdown",
   "metadata": {},
   "source": [
    "## Problem 2:"
   ]
  },
  {
   "cell_type": "code",
   "execution_count": 5,
   "metadata": {},
   "outputs": [
    {
     "name": "stdout",
     "output_type": "stream",
     "text": [
      "2002, 2009, 2016, 2023, 2037, 2044, 2051, 2058, 2072, 2079, 2086, 2093, 2107, 2114, 2121, 2128, 2142, 2149, 2156, 2163, 2177, 2184, 2191, 2198, 2212, 2219, 2226, 2233, 2247, 2254, 2261, 2268, 2282, 2289, 2296, 2303, 2317, 2324, 2331, 2338, 2352, 2359, 2366, 2373, 2387, 2394, 2401, 2408, 2422, 2429, 2436, 2443, 2457, 2464, 2471, 2478, 2492, 2499, 2506, 2513, 2527, 2534, 2541, 2548, 2562, 2569, 2576, 2583, 2597, 2604, 2611, 2618, 2632, 2639, 2646, 2653, 2667, 2674, 2681, 2688, 2702, 2709, 2716, 2723, 2737, 2744, 2751, 2758, 2772, 2779, 2786, 2793, 2807, 2814, 2821, 2828, 2842, 2849, 2856, 2863, 2877, 2884, 2891, 2898, 2912, 2919, 2926, 2933, 2947, 2954, 2961, 2968, 2982, 2989, 2996, 3003, 3017, 3024, 3031, 3038, 3052, 3059, 3066, 3073, 3087, 3094, 3101, 3108, 3122, 3129, 3136, 3143, 3157, 3164, 3171, 3178, 3192, 3199\n"
     ]
    }
   ],
   "source": [
    "a = []\n",
    "for i in range(2000, 3200):\n",
    "    if (i%7 == 0) & (i%5 != 0):\n",
    "        a.append(str(i))\n",
    "print(\", \".join(a))"
   ]
  },
  {
   "cell_type": "markdown",
   "metadata": {},
   "source": [
    "## Problem 3:"
   ]
  },
  {
   "cell_type": "code",
   "execution_count": 8,
   "metadata": {},
   "outputs": [
    {
     "name": "stdout",
     "output_type": "stream",
     "text": [
      "Please enter your first name:Amar\n",
      "Please enter your last name:Jadagouda\n",
      "ramA aduogadaJ\n"
     ]
    }
   ],
   "source": [
    "a = input(\"Please enter your first name:\")\n",
    "b = input(\"Please enter your last name:\")\n",
    "c = a[::-1]\n",
    "d = b[::-1]\n",
    "print(\"%s %s\" %(c, d))"
   ]
  },
  {
   "cell_type": "markdown",
   "metadata": {},
   "source": [
    "## Problem 4:"
   ]
  },
  {
   "cell_type": "code",
   "execution_count": 9,
   "metadata": {},
   "outputs": [
    {
     "name": "stdout",
     "output_type": "stream",
     "text": [
      "Volume of a sphere is : 904.7786842338603\n"
     ]
    }
   ],
   "source": [
    "# Program to find volume of a sphere with diameter 12cm\n",
    "import math\n",
    "diameter = 12\n",
    "radius = diameter/2\n",
    "Volume = (4/3) * math.pi * radius**3\n",
    "print(\"Volume of a sphere is :\", Volume)"
   ]
  },
  {
   "cell_type": "markdown",
   "metadata": {},
   "source": [
    "# Problem statement: Python 2"
   ]
  },
  {
   "cell_type": "markdown",
   "metadata": {},
   "source": [
    "## Problem 1 :"
   ]
  },
  {
   "cell_type": "code",
   "execution_count": 12,
   "metadata": {},
   "outputs": [
    {
     "name": "stdout",
     "output_type": "stream",
     "text": [
      "Please enter comma-separated numbers:1,2,3,4\n",
      "<class 'list'>\n",
      "['1', '2', '3', '4']\n"
     ]
    }
   ],
   "source": [
    "# Program to enter comma separated numbers from console and generate the list\n",
    "a = str(input(\"Please enter comma-separated numbers:\"))\n",
    "b = a.split(',')\n",
    "print(type(b))\n",
    "print(b)"
   ]
  },
  {
   "cell_type": "markdown",
   "metadata": {},
   "source": [
    "## Problem 2:"
   ]
  },
  {
   "cell_type": "code",
   "execution_count": 34,
   "metadata": {},
   "outputs": [
    {
     "name": "stdout",
     "output_type": "stream",
     "text": [
      "\n",
      "\n",
      "*\n",
      "\n",
      "**\n",
      "\n",
      "***\n",
      "\n",
      "****\n",
      "\n",
      "*****\n",
      "\n",
      "****\n",
      "\n",
      "***\n",
      "\n",
      "**\n",
      "\n",
      "*\n",
      "\n"
     ]
    }
   ],
   "source": [
    "k=0\n",
    "for i in range(0,10):\n",
    "    if i < 6:\n",
    "        for j in range(0,i):\n",
    "            print(\"*\",end=\"\")\n",
    "    else:\n",
    "        k=k+2\n",
    "        for j in range(i-k,0,-1):\n",
    "            print(\"*\",end=\"\")\n",
    "    print(\"\\n\")"
   ]
  },
  {
   "cell_type": "markdown",
   "metadata": {},
   "source": [
    "## Problem 3:"
   ]
  },
  {
   "cell_type": "code",
   "execution_count": 35,
   "metadata": {},
   "outputs": [
    {
     "name": "stdout",
     "output_type": "stream",
     "text": [
      "Please input the word to be reversed:Acadgild\n",
      "dligdacA\n"
     ]
    }
   ],
   "source": [
    "#Program to reverse the word input by the user\n",
    "a=input(\"Please input the word to be reversed:\")\n",
    "print(a[::-1])"
   ]
  },
  {
   "cell_type": "markdown",
   "metadata": {},
   "source": [
    "## Problem 4:"
   ]
  },
  {
   "cell_type": "code",
   "execution_count": 3,
   "metadata": {},
   "outputs": [
    {
     "name": "stdout",
     "output_type": "stream",
     "text": [
      "WE, THE PEOPLE OF INDIA,\n",
      "\thaving solemnly resolved to constitute India into SOVEREIGN,!\n",
      "\t\tSOCIALIST,SECULAR,DECROMATIC\n",
      "\t\t\tREPUBLIC and to secure to all its citizens\n"
     ]
    }
   ],
   "source": [
    "print(\"WE, THE PEOPLE OF INDIA,\\n\\thaving solemnly resolved to constitute India into SOVEREIGN,!\\n\\t\\tSOCIALIST,SECULAR,DECROMATIC\\n\\t\\t\\tREPUBLIC and to secure to all its citizens\")"
   ]
  },
  {
   "cell_type": "markdown",
   "metadata": {},
   "source": [
    "# Problem statement : Python 3"
   ]
  },
  {
   "cell_type": "markdown",
   "metadata": {},
   "source": [
    "# Problem 1:"
   ]
  },
  {
   "cell_type": "code",
   "execution_count": 9,
   "metadata": {},
   "outputs": [
    {
     "name": "stdout",
     "output_type": "stream",
     "text": [
      "15\n",
      "5\n"
     ]
    }
   ],
   "source": [
    "#myReduce function which takes function as argument and a list where input function accepts two parameters only\n",
    "def myReduce(func,a):\n",
    "    b=0\n",
    "    for i in range(len(a)):\n",
    "        b=func(b, a[i])\n",
    "    return b\n",
    "\n",
    "def add(c,d):\n",
    "    return c+d\n",
    "\n",
    "def max(e,f):\n",
    "    if (e > f):\n",
    "        return e\n",
    "    else:\n",
    "        return f\n",
    "    \n",
    "list=[1,2,3,4,5]\n",
    "g=myReduce(add,list)\n",
    "print(g)\n",
    "\n",
    "g=myReduce(max,list)\n",
    "print(g)"
   ]
  },
  {
   "cell_type": "code",
   "execution_count": 12,
   "metadata": {},
   "outputs": [
    {
     "name": "stdout",
     "output_type": "stream",
     "text": [
      "[2, 4, 6]\n",
      "[1, 2, 3]\n"
     ]
    }
   ],
   "source": [
    "#myFilter function which takes function as argument and a list where input function accepts two parameters only\n",
    "def myFilter(func,a):\n",
    "    result=[]\n",
    "    for i in range(len(a)):\n",
    "        if True == func(a[i]):\n",
    "            result.append(a[i])\n",
    "    return result\n",
    "\n",
    "def even_num(a):\n",
    "    if a%2==0:\n",
    "        return True\n",
    "    else:\n",
    "        return False\n",
    "def positive_num(a):\n",
    "    if a > 0:\n",
    "        return True\n",
    "    else:\n",
    "        return False\n",
    "\n",
    "list=[1,2,3,4,5,6]\n",
    "b=myFilter(even_num,list)\n",
    "print(b)\n",
    "\n",
    "list=[-3,-2,-1,0,1,2,3]\n",
    "b=myFilter(positive_num,list)\n",
    "print(b)"
   ]
  },
  {
   "cell_type": "markdown",
   "metadata": {},
   "source": [
    "## Problem 2:"
   ]
  },
  {
   "cell_type": "code",
   "execution_count": 2,
   "metadata": {},
   "outputs": [
    {
     "name": "stdout",
     "output_type": "stream",
     "text": [
      "['A', 'C', 'A', 'D', 'G', 'I', 'L', 'D']\n"
     ]
    }
   ],
   "source": [
    "a = [i for i in 'ACADGILD']\n",
    "print(a)"
   ]
  },
  {
   "cell_type": "code",
   "execution_count": 8,
   "metadata": {},
   "outputs": [
    {
     "name": "stdout",
     "output_type": "stream",
     "text": [
      "['x', 'xx', 'xxx', 'xxxx', 'y', 'yy', 'yyy', 'yyyy', 'z', 'zz', 'zzz', 'zzzz']\n"
     ]
    }
   ],
   "source": [
    "a = [i*a for i in 'xyz' for a in range(1,5)]\n",
    "print(a)"
   ]
  },
  {
   "cell_type": "code",
   "execution_count": 10,
   "metadata": {},
   "outputs": [
    {
     "name": "stdout",
     "output_type": "stream",
     "text": [
      "['x', 'y', 'z', 'xx', 'yy', 'zz', 'xxx', 'yyy', 'zzz', 'xxxx', 'yyyy', 'zzzz']\n"
     ]
    }
   ],
   "source": [
    "a = [i*a for i in range(1,5) for a in 'xyz']\n",
    "print(a)"
   ]
  },
  {
   "cell_type": "code",
   "execution_count": 2,
   "metadata": {},
   "outputs": [
    {
     "name": "stdout",
     "output_type": "stream",
     "text": [
      "[[2], [3], [4], [3], [4], [5], [4], [5], [6]]\n"
     ]
    }
   ],
   "source": [
    "a=[[y+1] for x in range(1,4) for y in range(x,x+3)]\n",
    "print(a)"
   ]
  },
  {
   "cell_type": "code",
   "execution_count": 2,
   "metadata": {
    "scrolled": true
   },
   "outputs": [
    {
     "name": "stdout",
     "output_type": "stream",
     "text": [
      "[[2, 3, 4, 5], [3, 4, 5, 6], [4, 5, 6, 7], [5, 6, 7, 8]]\n"
     ]
    }
   ],
   "source": [
    "a=[[y+1 for y in range(x,x+4)] for x in range(1,5)]\n",
    "print(a)"
   ]
  },
  {
   "cell_type": "code",
   "execution_count": 4,
   "metadata": {},
   "outputs": [
    {
     "name": "stdout",
     "output_type": "stream",
     "text": [
      "[(1, 1), (2, 1), (3, 1), (1, 2), (2, 2), (3, 2), (1, 3), (2, 3), (3, 3)]\n"
     ]
    }
   ],
   "source": [
    "a=[(y,x) for x in range(1,4) for y in range(1,4)]\n",
    "print(a)"
   ]
  },
  {
   "cell_type": "markdown",
   "metadata": {},
   "source": [
    "## Problem 3:"
   ]
  },
  {
   "cell_type": "code",
   "execution_count": 18,
   "metadata": {},
   "outputs": [
    {
     "name": "stdout",
     "output_type": "stream",
     "text": [
      "Shrikanth\n",
      "Ravichandran\n"
     ]
    }
   ],
   "source": [
    "def longestWord(a):\n",
    "    length=0\n",
    "    longestWord='None'\n",
    "    for i in range(len(a)):\n",
    "        if len(a[i]) > length:\n",
    "            length=len(a[i])\n",
    "            longestWord=a[i]    \n",
    "    return longestWord\n",
    "\n",
    "a=longestWord(['Amar', 'Shrikanth', 'Priya', 'Acadgild'])\n",
    "print(a)\n",
    "a=longestWord(['Amar', 'Shrikanth', 'Priya', 'Acadgild', 'Ravichandran'])\n",
    "print(a)"
   ]
  },
  {
   "cell_type": "markdown",
   "metadata": {},
   "source": [
    "# Problem statement : Python 4"
   ]
  },
  {
   "cell_type": "markdown",
   "metadata": {},
   "source": [
    "## Problem 1:"
   ]
  },
  {
   "cell_type": "code",
   "execution_count": 24,
   "metadata": {},
   "outputs": [
    {
     "name": "stdout",
     "output_type": "stream",
     "text": [
      "Enter side 1 of triangle:3\n",
      "Enter side 2 of triangle:4\n",
      "Enter side 3 of triangle:5\n",
      "Area of triangle is: 6.0\n"
     ]
    }
   ],
   "source": [
    "class TriangleInfo:\n",
    "    def _init_(self):\n",
    "        pass\n",
    "    \n",
    "    def getInfo(self):\n",
    "        self.a = int(input(\"Enter side 1 of triangle:\"))\n",
    "        self.b = int(input(\"Enter side 2 of triangle:\"))\n",
    "        self.c = int(input(\"Enter side 3 of triangle:\"))\n",
    "        \n",
    "    def getPerimeter(self):\n",
    "        return (self.a + self.b + self.c)/2\n",
    "    \n",
    "class AreaOfTriangle(TriangleInfo):\n",
    "    def _init_(self):\n",
    "        TriangleInfo._init_(self)\n",
    "    \n",
    "    def getArea(self):\n",
    "        TriangleInfo.getInfo(self)\n",
    "        s=TriangleInfo.getPerimeter(self)\n",
    "        Area = (s *(s-self.a)*(s-self.b)*(s-self.c)) ** 0.5\n",
    "        return Area\n",
    "\n",
    "AreaObj=AreaOfTriangle()\n",
    "Area = AreaObj.getArea()\n",
    "print('Area of triangle is:', Area)\n",
    "        "
   ]
  },
  {
   "cell_type": "markdown",
   "metadata": {},
   "source": [
    "## Problem 2:"
   ]
  },
  {
   "cell_type": "code",
   "execution_count": 26,
   "metadata": {},
   "outputs": [
    {
     "name": "stdout",
     "output_type": "stream",
     "text": [
      "['Shrikanth', 'Priya', 'Acadgild', 'Ravichandran']\n"
     ]
    }
   ],
   "source": [
    "def filter_long_Words(list, n):\n",
    "    longWords=[]\n",
    "    for i in range(len(list)):\n",
    "        if len(list[i]) > n:\n",
    "            longWords.append(list[i])    \n",
    "    return longWords\n",
    "\n",
    "UserList = ['Amar', 'Shrikanth', 'Priya', 'Acadgild', 'Ravichandran']\n",
    "filterList = filter_long_Words(UserList, 4)\n",
    "print(filterList)"
   ]
  },
  {
   "cell_type": "markdown",
   "metadata": {},
   "source": [
    "## Problem 3:"
   ]
  },
  {
   "cell_type": "code",
   "execution_count": 29,
   "metadata": {},
   "outputs": [
    {
     "name": "stdout",
     "output_type": "stream",
     "text": [
      "[4, 9, 5, 8, 12]\n"
     ]
    }
   ],
   "source": [
    "def getLengthOfWords(list):\n",
    "    WordsLength=[]\n",
    "    for i in list:\n",
    "        WordsLength.append(len(i))    \n",
    "    return WordsLength\n",
    "\n",
    "UserList = ['Amar', 'Shrikanth', 'Priya', 'Acadgild', 'Ravichandran']\n",
    "WordsLength = getLengthOfWords(UserList)\n",
    "print(WordsLength)"
   ]
  },
  {
   "cell_type": "markdown",
   "metadata": {},
   "source": [
    "## Problem 4:"
   ]
  },
  {
   "cell_type": "code",
   "execution_count": 44,
   "metadata": {},
   "outputs": [
    {
     "name": "stdout",
     "output_type": "stream",
     "text": [
      "True\n",
      "False\n",
      "False\n"
     ]
    }
   ],
   "source": [
    "def isVowel(letter):\n",
    "    if str(letter).isalpha == False:\n",
    "        return False\n",
    "    \n",
    "    Vowels = ('a', 'e', 'i', 'o', 'u')\n",
    "    if letter in Vowels:\n",
    "        return True\n",
    "    else:\n",
    "        return False\n",
    "        \n",
    "print(isVowel('i'))\n",
    "print(isVowel('z'))\n",
    "print(isVowel(1))"
   ]
  },
  {
   "cell_type": "markdown",
   "metadata": {},
   "source": [
    "# Problem statement : Python 5"
   ]
  },
  {
   "cell_type": "markdown",
   "metadata": {},
   "source": [
    "## Problem 1:"
   ]
  },
  {
   "cell_type": "code",
   "execution_count": 45,
   "metadata": {},
   "outputs": [
    {
     "name": "stdout",
     "output_type": "stream",
     "text": [
      "A number cannot be divided by zero!\n"
     ]
    }
   ],
   "source": [
    "try :\n",
    "    result = 5/0\n",
    "    print(\"Result of the division is:\", result)\n",
    "except ZeroDivisionError:\n",
    "    print(\"A number cannot be divided by zero!\")"
   ]
  },
  {
   "cell_type": "markdown",
   "metadata": {},
   "source": [
    "## Problem 2:"
   ]
  },
  {
   "cell_type": "code",
   "execution_count": 48,
   "metadata": {},
   "outputs": [
    {
     "name": "stdout",
     "output_type": "stream",
     "text": [
      "Americans play Baseball.\n",
      "Americans play Cricket.\n",
      "Americans watch Baseball.\n",
      "Americans watch Cricket.\n",
      "Indians play Baseball.\n",
      "Indians play Cricket.\n",
      "Indians watch Baseball.\n",
      "Indians watch Cricket.\n"
     ]
    }
   ],
   "source": [
    "subjects = [\"Americans\", \"Indians\"]\n",
    "verbs = [\"play\", \"watch\"]\n",
    "objects = [\"Baseball\", \"Cricket\"]\n",
    "\n",
    "for i in subjects:\n",
    "    for j in verbs:\n",
    "        for k in objects:\n",
    "            print(i,j,k, end=\".\\n\")"
   ]
  },
  {
   "cell_type": "code",
   "execution_count": null,
   "metadata": {},
   "outputs": [],
   "source": []
  }
 ],
 "metadata": {
  "kernelspec": {
   "display_name": "Python 3",
   "language": "python",
   "name": "python3"
  },
  "language_info": {
   "codemirror_mode": {
    "name": "ipython",
    "version": 3
   },
   "file_extension": ".py",
   "mimetype": "text/x-python",
   "name": "python",
   "nbconvert_exporter": "python",
   "pygments_lexer": "ipython3",
   "version": "3.7.3"
  }
 },
 "nbformat": 4,
 "nbformat_minor": 2
}
